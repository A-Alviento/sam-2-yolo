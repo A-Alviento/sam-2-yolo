{
 "cells": [
  {
   "attachments": {},
   "cell_type": "markdown",
   "metadata": {},
   "source": [
    "# Extract Frames\n",
    "This notebook is used to extract frames from videos for annotating with `Segment-Anything-Annotator`\n",
    "- Follow steps below "
   ]
  },
  {
   "attachments": {},
   "cell_type": "markdown",
   "metadata": {},
   "source": [
    "Functions"
   ]
  },
  {
   "cell_type": "code",
   "execution_count": 5,
   "metadata": {},
   "outputs": [],
   "source": [
    "import os\n",
    "import cv2\n",
    "\n",
    "# this is used to extract the frames from a video file and output into specified directory as jpg images\n",
    "def extract_frames(video_path, output_dir, frame_interval=300):\n",
    "    filename = os.path.splitext(os.path.basename(video_path))[0]\n",
    "    os.makedirs(output_dir, exist_ok=True)\n",
    "\n",
    "    video = cv2.VideoCapture(video_path)\n",
    "\n",
    "    if not video.isOpened():\n",
    "        print(f\"Could not open video file: {video_path}\")\n",
    "        return\n",
    "\n",
    "    fps = video.get(cv2.CAP_PROP_FPS)\n",
    "\n",
    "    if fps >= 50:\n",
    "        frame_interval *= 2\n",
    "    \n",
    "    frame_index = 0\n",
    "\n",
    "    while True:\n",
    "        success, frame = video.read()\n",
    "        if not success: \n",
    "            break\n",
    "\n",
    "        if frame_index % frame_interval == 0:\n",
    "            output_path = os.path.join(output_dir, f\"{filename}_frame_{frame_index}.png\")\n",
    "            cv2.imwrite(output_path, frame)\n",
    "\n",
    "        frame_index += 1\n",
    "\n",
    "    video.release()\n",
    "\n",
    "\n",
    "# this is used to load the images from the specified directory and output the data in the format required for YOLO training\n",
    "def load_images_from_video(img_path, vid_path, frame_interval):\n",
    "    for filename in os.listdir(vid_path):\n",
    "        extract_frames(os.path.join(vid_path, filename), img_path, frame_interval)\n",
    "\n"
   ]
  },
  {
   "attachments": {},
   "cell_type": "markdown",
   "metadata": {},
   "source": [
    "**Specify parameters** (*Edit*)"
   ]
  },
  {
   "cell_type": "code",
   "execution_count": 20,
   "metadata": {},
   "outputs": [],
   "source": [
    "# specify the folder where the videos are located\n",
    "source_dir = r\"X:\\Sam-Annotator\\video12-bishan\"\n",
    "# specify where you want to store the extracted frames from the source videos\n",
    "source_extracted_dir = r\"X:\\Sam-Annotator\\video12-bishan\\images\"\n",
    "# specify the frame interval to extract from the videos\n",
    "frame_interval = 120 "
   ]
  },
  {
   "cell_type": "markdown",
   "metadata": {},
   "source": [
    "Extract frames"
   ]
  },
  {
   "cell_type": "code",
   "execution_count": 21,
   "metadata": {},
   "outputs": [
    {
     "name": "stdout",
     "output_type": "stream",
     "text": [
      "Could not open video file: X:\\Sam-Annotator\\video12-bishan\\images\n",
      "Could not open video file: X:\\Sam-Annotator\\video12-bishan\\labels\n"
     ]
    }
   ],
   "source": [
    "# extract frames from source_dir and output images to source_extracted_dir\n",
    "load_images_from_video(source_extracted_dir, source_dir, frame_interval)"
   ]
  }
 ],
 "metadata": {
  "kernelspec": {
   "display_name": "segment-anything",
   "language": "python",
   "name": "python3"
  },
  "language_info": {
   "codemirror_mode": {
    "name": "ipython",
    "version": 3
   },
   "file_extension": ".py",
   "mimetype": "text/x-python",
   "name": "python",
   "nbconvert_exporter": "python",
   "pygments_lexer": "ipython3",
   "version": "3.10.11"
  },
  "orig_nbformat": 4
 },
 "nbformat": 4,
 "nbformat_minor": 2
}
