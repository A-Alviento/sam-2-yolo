{
 "cells": [
  {
   "attachments": {},
   "cell_type": "markdown",
   "metadata": {},
   "source": [
    "# Convert segmentation YOLO format to bbox YOLO format\n",
    "This notebook is used to convert YOLO segmentation dataset into bounding box detection dataset"
   ]
  },
  {
   "attachments": {},
   "cell_type": "markdown",
   "metadata": {},
   "source": [
    "Functions"
   ]
  },
  {
   "cell_type": "code",
   "execution_count": 9,
   "metadata": {},
   "outputs": [],
   "source": [
    "import os\n",
    "\n",
    "def convert_seg_bb(directory): \n",
    "    # Loop through each .txt file in the directory\n",
    "    for filename in os.listdir(directory):\n",
    "        if filename.endswith('.txt'):\n",
    "            file_path = os.path.join(directory, filename)\n",
    "            \n",
    "            # Read the content of the file\n",
    "            with open(file_path, 'r') as file:\n",
    "                contents = file.readlines()\n",
    "            \n",
    "            coords = []\n",
    "\n",
    "            for content in contents:\n",
    "                # Convert the segmentation labels to bounding box labels\n",
    "                content = content.strip().split()\n",
    "                class_label = content[0]\n",
    "                x_values = []\n",
    "                y_values = []\n",
    "                \n",
    "                for i in range(1, len(content), 2):\n",
    "                    x_values.append(float(content[i]))\n",
    "                    y_values.append(float(content[i + 1]))\n",
    "                \n",
    "                # Calculate the bounding box coordinates\n",
    "                x1 = min(x_values)\n",
    "                y1 = min(y_values)\n",
    "                x2 = max(x_values)\n",
    "                y2 = max(y_values)\n",
    "                width = x2 - x1\n",
    "                height = y2 - y1\n",
    "                x = x1 + (width / 2)\n",
    "                y = y1 + (height / 2)\n",
    "                \n",
    "                coords.append([class_label, x, y, width, height])\n",
    "\n",
    "            with open(file_path, 'w') as file:\n",
    "                for coord in coords:\n",
    "                    file.write(f\"{coord[0]} {coord[1]} {coord[2]} {coord[3]} {coord[4]}\\n\")"
   ]
  },
  {
   "attachments": {},
   "cell_type": "markdown",
   "metadata": {},
   "source": [
    "First, place a copy of the dataset into the `dataset` directory in the usual YOLO format:\n",
    "- dataset/\n",
    "    - train/\n",
    "    - valid/"
   ]
  },
  {
   "attachments": {},
   "cell_type": "markdown",
   "metadata": {},
   "source": [
    "The cell below will **rewrite** the label files in the *train* directory\n",
    "- NOTE: This rewrites the original segmentation files. Make backup of original dataset if needed.\n",
    "- WARNING: Do not run this again after running it since the conversion has already occured. Doing so will result in unexpected output as it will try to convert the bbox"
   ]
  },
  {
   "cell_type": "code",
   "execution_count": 10,
   "metadata": {},
   "outputs": [],
   "source": [
    "directory = r\"C:\\Users\\Adrian\\Desktop\\projects\\segment-anything-annotator\\dataset\\train\\labels\"\n",
    "convert_seg_bb(directory)"
   ]
  },
  {
   "attachments": {},
   "cell_type": "markdown",
   "metadata": {},
   "source": [
    "The cell below will **rewrite** the label files in the *valid* directory\n",
    "- NOTE: This rewrites the original segmentation files\n",
    "- WARNING: Do not run this again after running it since the conversion has already occured. Doing so will result in unexpected output as it will try to convert the bbox"
   ]
  },
  {
   "cell_type": "code",
   "execution_count": 11,
   "metadata": {},
   "outputs": [],
   "source": [
    "directory = r\"C:\\Users\\Adrian\\Desktop\\projects\\segment-anything-annotator\\dataset\\valid\\labels\"\n",
    "convert_seg_bb(directory)"
   ]
  },
  {
   "attachments": {},
   "cell_type": "markdown",
   "metadata": {},
   "source": [
    "# Visualise the bounding box"
   ]
  },
  {
   "attachments": {},
   "cell_type": "markdown",
   "metadata": {},
   "source": [
    "Functions"
   ]
  },
  {
   "cell_type": "code",
   "execution_count": 12,
   "metadata": {},
   "outputs": [],
   "source": [
    "import numpy as np\n",
    "import cv2\n",
    "import matplotlib.pyplot as plt\n",
    "import os\n",
    "\n",
    "def draw_bbox(image, bbox, color=(0,0,255), thickness=2):\n",
    "    points = bbox\n",
    "\n",
    "    # rescale points back to image dimenions  \n",
    "    img_h = image.shape[0] \n",
    "    img_w = image.shape[1]\n",
    "    points[0] = points[0] * img_w\n",
    "    points[1] = points[1] * img_h\n",
    "    points[2] = points[2] * img_w\n",
    "    points[3] = points[3] * img_h\n",
    "\n",
    "\n",
    "    x1, y1, w, h = points\n",
    "    start_point = (int(x1 - w/2), int(y1 + h/2))\n",
    "    end_point = (int(x1 + w/2), int(y1 - h/2))\n",
    "\n",
    "    # draw bounding box on image\n",
    "    cv2.rectangle(image, start_point, end_point, color, thickness)\n",
    "\n",
    "\n",
    "# this function draws the existing bbox on the image\n",
    "def draw_existing_bbox(image, path):\n",
    "    with open(path, 'r') as f:\n",
    "        lines = f.readlines()\n",
    "    for line in lines:\n",
    "        parts = line.strip().split()\n",
    "        bbox = [float(x) for x in parts[1:]]\n",
    "        draw_bbox(image, bbox)\n",
    "\n",
    "# this function draws the bbox on a set of images in a directory\n",
    "def draw_bbox_on_images(image_dir, label_dir):\n",
    "    for filename in os.listdir(image_dir):\n",
    "        # get corresponding label file\n",
    "        label_path = os.path.join(label_dir, filename.replace('.png', '.txt'))\n",
    "        # read image\n",
    "        image = cv2.imread(os.path.join(image_dir, filename))\n",
    "        # draw existing bounding boxes\n",
    "        draw_existing_bbox(image, label_path)\n",
    "        # show image\n",
    "        plt.imshow(image)\n",
    "        plt.show()"
   ]
  },
  {
   "attachments": {},
   "cell_type": "markdown",
   "metadata": {},
   "source": [
    "Check bounding boxes for training set"
   ]
  },
  {
   "cell_type": "code",
   "execution_count": 1,
   "metadata": {},
   "outputs": [
    {
     "ename": "NameError",
     "evalue": "name 'draw_bbox_on_images' is not defined",
     "output_type": "error",
     "traceback": [
      "\u001b[1;31m---------------------------------------------------------------------------\u001b[0m",
      "\u001b[1;31mNameError\u001b[0m                                 Traceback (most recent call last)",
      "Cell \u001b[1;32mIn[1], line 4\u001b[0m\n\u001b[0;32m      1\u001b[0m image_dir \u001b[39m=\u001b[39m \u001b[39mr\u001b[39m\u001b[39m\"\u001b[39m\u001b[39mC:\u001b[39m\u001b[39m\\\u001b[39m\u001b[39mUsers\u001b[39m\u001b[39m\\\u001b[39m\u001b[39mAdrian\u001b[39m\u001b[39m\\\u001b[39m\u001b[39mDesktop\u001b[39m\u001b[39m\\\u001b[39m\u001b[39mprojects\u001b[39m\u001b[39m\\\u001b[39m\u001b[39msegment-anything-annotator\u001b[39m\u001b[39m\\\u001b[39m\u001b[39mdataset\u001b[39m\u001b[39m\\\u001b[39m\u001b[39mtrain\u001b[39m\u001b[39m\\\u001b[39m\u001b[39mimages\u001b[39m\u001b[39m\"\u001b[39m\n\u001b[0;32m      2\u001b[0m label_dir \u001b[39m=\u001b[39m \u001b[39mr\u001b[39m\u001b[39m\"\u001b[39m\u001b[39mC:\u001b[39m\u001b[39m\\\u001b[39m\u001b[39mUsers\u001b[39m\u001b[39m\\\u001b[39m\u001b[39mAdrian\u001b[39m\u001b[39m\\\u001b[39m\u001b[39mDesktop\u001b[39m\u001b[39m\\\u001b[39m\u001b[39mprojects\u001b[39m\u001b[39m\\\u001b[39m\u001b[39msegment-anything-annotator\u001b[39m\u001b[39m\\\u001b[39m\u001b[39mdataset\u001b[39m\u001b[39m\\\u001b[39m\u001b[39mtrain\u001b[39m\u001b[39m\\\u001b[39m\u001b[39mlabels\u001b[39m\u001b[39m\"\u001b[39m\n\u001b[1;32m----> 4\u001b[0m draw_bbox_on_images(image_dir, label_dir)\n",
      "\u001b[1;31mNameError\u001b[0m: name 'draw_bbox_on_images' is not defined"
     ]
    }
   ],
   "source": [
    "image_dir = r\"C:\\Users\\Adrian\\Desktop\\projects\\segment-anything-annotator\\dataset\\train\\images\"\n",
    "label_dir = r\"C:\\Users\\Adrian\\Desktop\\projects\\segment-anything-annotator\\dataset\\train\\labels\"\n",
    "\n",
    "draw_bbox_on_images(image_dir, label_dir)"
   ]
  },
  {
   "attachments": {},
   "cell_type": "markdown",
   "metadata": {},
   "source": [
    "Check bounding boxes for valid set"
   ]
  },
  {
   "cell_type": "code",
   "execution_count": 2,
   "metadata": {},
   "outputs": [
    {
     "ename": "NameError",
     "evalue": "name 'draw_bbox_on_images' is not defined",
     "output_type": "error",
     "traceback": [
      "\u001b[1;31m---------------------------------------------------------------------------\u001b[0m",
      "\u001b[1;31mNameError\u001b[0m                                 Traceback (most recent call last)",
      "Cell \u001b[1;32mIn[2], line 4\u001b[0m\n\u001b[0;32m      1\u001b[0m image_dir \u001b[39m=\u001b[39m \u001b[39mr\u001b[39m\u001b[39m\"\u001b[39m\u001b[39mC:\u001b[39m\u001b[39m\\\u001b[39m\u001b[39mUsers\u001b[39m\u001b[39m\\\u001b[39m\u001b[39mAdrian\u001b[39m\u001b[39m\\\u001b[39m\u001b[39mDesktop\u001b[39m\u001b[39m\\\u001b[39m\u001b[39mprojects\u001b[39m\u001b[39m\\\u001b[39m\u001b[39msegment-anything-annotator\u001b[39m\u001b[39m\\\u001b[39m\u001b[39mdataset\u001b[39m\u001b[39m\\\u001b[39m\u001b[39mvalid\u001b[39m\u001b[39m\\\u001b[39m\u001b[39mimages\u001b[39m\u001b[39m\"\u001b[39m\n\u001b[0;32m      2\u001b[0m label_dir \u001b[39m=\u001b[39m \u001b[39mr\u001b[39m\u001b[39m\"\u001b[39m\u001b[39mC:\u001b[39m\u001b[39m\\\u001b[39m\u001b[39mUsers\u001b[39m\u001b[39m\\\u001b[39m\u001b[39mAdrian\u001b[39m\u001b[39m\\\u001b[39m\u001b[39mDesktop\u001b[39m\u001b[39m\\\u001b[39m\u001b[39mprojects\u001b[39m\u001b[39m\\\u001b[39m\u001b[39msegment-anything-annotator\u001b[39m\u001b[39m\\\u001b[39m\u001b[39mdataset\u001b[39m\u001b[39m\\\u001b[39m\u001b[39mvalid\u001b[39m\u001b[39m\\\u001b[39m\u001b[39mlabels\u001b[39m\u001b[39m\"\u001b[39m\n\u001b[1;32m----> 4\u001b[0m draw_bbox_on_images(image_dir, label_dir)\n",
      "\u001b[1;31mNameError\u001b[0m: name 'draw_bbox_on_images' is not defined"
     ]
    }
   ],
   "source": [
    "image_dir = r\"C:\\Users\\Adrian\\Desktop\\projects\\segment-anything-annotator\\dataset\\valid\\images\"\n",
    "label_dir = r\"C:\\Users\\Adrian\\Desktop\\projects\\segment-anything-annotator\\dataset\\valid\\labels\"\n",
    "\n",
    "draw_bbox_on_images(image_dir, label_dir)f"
   ]
  }
 ],
 "metadata": {
  "kernelspec": {
   "display_name": "segment-anything",
   "language": "python",
   "name": "python3"
  },
  "language_info": {
   "codemirror_mode": {
    "name": "ipython",
    "version": 3
   },
   "file_extension": ".py",
   "mimetype": "text/x-python",
   "name": "python",
   "nbconvert_exporter": "python",
   "pygments_lexer": "ipython3",
   "version": "3.10.11"
  },
  "orig_nbformat": 4
 },
 "nbformat": 4,
 "nbformat_minor": 2
}
