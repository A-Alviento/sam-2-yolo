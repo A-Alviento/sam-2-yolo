{
 "cells": [
  {
   "attachments": {},
   "cell_type": "markdown",
   "metadata": {},
   "source": [
    "# Modify labels\n",
    "This notebook is used to modify the labels made with `Segment-Anything-Annotator`. **It acts directly on the .json file created by the program**"
   ]
  },
  {
   "attachments": {},
   "cell_type": "markdown",
   "metadata": {},
   "source": [
    "This dictionary specifies how to modify or combine existing labels. The keys would specify the labels to look for and it's corresponding value will be the new label it would take."
   ]
  },
  {
   "cell_type": "code",
   "execution_count": 4,
   "metadata": {},
   "outputs": [],
   "source": [
    "dict = {\n",
    "    \"Soil_floor\": \"floor_soil\",\n",
    "    \"Concrete_floor\": \"floor_concrete\",\n",
    "    \"Tiled_floor\": \"floor_tiled\",\n",
    "    \"Wooden_floor\": \"floor_wooden\",\n",
    "    \"Raw_wall\": \"surface_raw\",\n",
    "    \"Concrete_coat_wall\": \"surface_concrete_coated\",\n",
    "    \"Painting_wall\": \"surface_painted\",\n",
    "    \"Painted_wall\": \"surface_painted\",\n",
    "    \"Tiled_wall\": \"surface_tiled\",\n",
    "    \"Straight_ceiling_light\": \"light_straight\",\n",
    "    \"Round_ceiling_light\": \"light_round\",\n",
    "    \"Lamp_post\": \"light_post\",\n",
    "    \"Windows\": \"window\",\n",
    "    \"Door\": \"door\",\n",
    "    \"Service_door\": \"door_service\",\n",
    "    \"Folding_door\": \"door_folding\",\n",
    "    \"Shelter_door\": \"door_shelter\",\n",
    "    \"Iron_gate\": \"gate_iron\",\n",
    "    \"Gate\": \"gate_iron\",\n",
    "    \"Door_dampener\": \"door_dampener\",\n",
    "    \"Door_frame\": \"door_frame\",\n",
    "    \"Socket\": \"socket\",\n",
    "    \"Metal_fittings\": \"fittings_metal\",\n",
    "    \"Railing\": \"railing\",\n",
    "    \"Hanger\": \"hanger\",\n",
    "    \"Shower\": \"shower\",\n",
    "    \"Sink\": \"sink\",\n",
    "    \"Circuit_box\": \"circuit_box\",\n",
    "    \"Ceiling_carrier_trays\": \"ceiling_carrier_tray\",\n",
    "    \"Electrical_cable\": \"cable\",\n",
    "    \"Shelter_vent\": \"vent_shelter\",\n",
    "    \"Smoke_detector\": \"smoke_detector\",\n",
    "    \"Stairs\": \"stairs\",\n",
    "    \"Toilet_bowl\": \"toilet_bowl\",\n",
    "    \"Drain_hole\": \"drain_hole\",\n",
    "    \"Ceiling_hole\": \"ceiling_hole\",\n",
    "    \"Lift\": \"lift\",\n",
    "    \"Signs\": \"signs\",\n",
    "    \"Pipes\": \"pipes\",\n",
    "    \"Pipe\": \"pipes\",\n",
    "    \"Wall_marking\": \"marking_wall\",\n",
    "    \"wall_marking\\\\\": \"marking_wall\",\n",
    "    \"Wall_marking\\\\\": \"marking_wall\",\n",
    "    \"Paint_defect\": \"paint_defect\",\n",
    "    \"Rubbish_chute\": \"rubbish_chute\",\n",
    "    \"Trees\": \"trees\",\n",
    "    \"Vehicle\": \"vehicle\",\n",
    "    \"People\": \"people\",\n",
    "    \"people'\": \"people\",\n",
    "    \"Building_material\": \"building_material\",\n",
    "    \"Tools\": \"tools\",\n",
    "    \"Scaffolding\": \"scaffolding\",\n",
    "    \"Lorry\": \"lorry\",\n",
    "    \"Excavator\": \"excavator\",\n",
    "    \"Scissor_lift\": \"scissor_lift\",\n",
    "    \"Rope\": \"rope\"\n",
    "}"
   ]
  },
  {
   "attachments": {},
   "cell_type": "markdown",
   "metadata": {},
   "source": [
    "Specify parameters"
   ]
  },
  {
   "cell_type": "code",
   "execution_count": 5,
   "metadata": {},
   "outputs": [],
   "source": [
    "# Specify the directory path containing the JSON files\n",
    "directory_path = r\"X:\\Sam-Annotator\\video4-jan-gnd\\labels\""
   ]
  },
  {
   "attachments": {},
   "cell_type": "markdown",
   "metadata": {},
   "source": [
    "modify/merge labels\n",
    "- NOTE: This modifies the .json files directly. Make a backup if needed."
   ]
  },
  {
   "cell_type": "code",
   "execution_count": 6,
   "metadata": {},
   "outputs": [],
   "source": [
    "import json\n",
    "import shutil\n",
    "import os\n",
    "\n",
    "# Iterate over the files in the directory\n",
    "for filename in os.listdir(directory_path):\n",
    "    if filename.endswith(\".json\"):\n",
    "        # Construct the full file path\n",
    "        json_file = os.path.join(directory_path, filename)\n",
    "\n",
    "        # Read the JSON file\n",
    "        with open(json_file, 'r') as file:\n",
    "            data = json.load(file)\n",
    "\n",
    "        # Modify label names according to the dictionary\n",
    "        shapes = data['shapes']\n",
    "        for shape in shapes:\n",
    "            label = shape['label']\n",
    "            if label in dict:\n",
    "                shape['label'] = dict[label]\n",
    "\n",
    "        # Create a temporary file to write the updated JSON data\n",
    "        temp_file = os.path.join(directory_path, 'temp_file.json')\n",
    "        with open(temp_file, 'w') as file:\n",
    "            json.dump(data, file, indent=4)\n",
    "\n",
    "        # Replace the original file with the temporary file\n",
    "        shutil.move(temp_file, json_file)\n"
   ]
  },
  {
   "attachments": {},
   "cell_type": "markdown",
   "metadata": {},
   "source": [
    "# Debugging purposes\n",
    "- This cell is used when you accidentally made a label in the program that does not correspond to anything in the dictionary.\n",
    "- You specify the label name that is causing a problem in `yolo-format.ipynb` and it would output the name of the files containing that label."
   ]
  },
  {
   "cell_type": "code",
   "execution_count": 31,
   "metadata": {},
   "outputs": [],
   "source": [
    "# Specify the directory path containing the JSON files\n",
    "directory_path = r\"X:\\Sam-Annotator\\video11-bishan\\labels\"\n",
    "# bug label\n",
    "problem_label = \"temp_roof\""
   ]
  },
  {
   "cell_type": "code",
   "execution_count": 33,
   "metadata": {},
   "outputs": [],
   "source": [
    "import json\n",
    "import shutil\n",
    "import os\n",
    "\n",
    "# Iterate over the files in the directory\n",
    "for filename in os.listdir(directory_path):\n",
    "    if filename.endswith(\".json\"):\n",
    "        # Construct the full file path\n",
    "        json_file = os.path.join(directory_path, filename)\n",
    "\n",
    "        # Read the JSON file\n",
    "        with open(json_file, 'r') as file:\n",
    "            data = json.load(file)\n",
    "\n",
    "        # Modify label names according to the dictionary\n",
    "        shapes = data['shapes']\n",
    "        for shape in shapes:\n",
    "            label = shape['label']\n",
    "            if label == problem_label:\n",
    "                print(filename)"
   ]
  }
 ],
 "metadata": {
  "kernelspec": {
   "display_name": "segment-anything",
   "language": "python",
   "name": "python3"
  },
  "language_info": {
   "codemirror_mode": {
    "name": "ipython",
    "version": 3
   },
   "file_extension": ".py",
   "mimetype": "text/x-python",
   "name": "python",
   "nbconvert_exporter": "python",
   "pygments_lexer": "ipython3",
   "version": "3.10.11"
  },
  "orig_nbformat": 4
 },
 "nbformat": 4,
 "nbformat_minor": 2
}
